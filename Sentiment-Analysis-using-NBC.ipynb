{
 "cells": [
  {
   "cell_type": "markdown",
   "id": "ce3dc90b",
   "metadata": {},
   "source": [
    "###### Import the Data\n",
    "\n",
    "Our first step is going to be to import data. We have three dataset options to choose from in the kaggle link - IMDb, Amazon or Yelp. We are going to select IMDb."
   ]
  },
  {
   "cell_type": "code",
   "execution_count": null,
   "id": "bf34a5a1",
   "metadata": {},
   "outputs": [],
   "source": [
    "import numpy as np\n",
    "import matplotlib.pyplot as plt\n",
    "import pandas as pd\n",
    "\n",
    "data= pd.read_csv('/content/imdb_labelled.txt', names=['Reviews','Sentiment'], delimiter = '\\t')\n",
    "data.info()"
   ]
  },
  {
   "cell_type": "markdown",
   "id": "2998157c",
   "metadata": {},
   "source": [
    "This shows that we have 748 rows in our dataset.\n",
    "To view the data we can call the data object, which would print all the rows"
   ]
  },
  {
   "cell_type": "code",
   "execution_count": null,
   "id": "539cd670",
   "metadata": {},
   "outputs": [],
   "source": [
    "data"
   ]
  },
  {
   "cell_type": "markdown",
   "id": "5116f034",
   "metadata": {},
   "source": [
    "To make it unbiased, we would shuffle the data before splitting."
   ]
  },
  {
   "cell_type": "code",
   "execution_count": null,
   "id": "3484627d",
   "metadata": {},
   "outputs": [],
   "source": [
    "# make a copy of the data\n",
    "shuffle_data = data.copy(deep=True)\n",
    "# shuffle data with sample().\n",
    "# frac = 1 is entire dataset, random_state=1 for reproducible data\n",
    "# and reset_index() to reset the index\n",
    "shuffle_data = shuffle_data.sample(frac=1, random_state=1).reset_index()\n",
    "shuffle_data.head(10)"
   ]
  },
  {
   "cell_type": "markdown",
   "id": "8f4e7424",
   "metadata": {},
   "source": [
    " We can now proceed to split the data."
   ]
  },
  {
   "cell_type": "code",
   "execution_count": null,
   "id": "676c00b3",
   "metadata": {},
   "outputs": [],
   "source": [
    "train_data = shuffle_data[0:639]\n",
    "dev_data = shuffle_data[639:714]\n",
    "test_data = shuffle_data[714:]\n",
    "\n",
    "train_data.info()\n",
    "dev_data.info()\n",
    "test_data.info()"
   ]
  },
  {
   "cell_type": "markdown",
   "id": "ed055b1e",
   "metadata": {},
   "source": [
    "###### Making a word frequency list and dictionary\n",
    "\n",
    "We are going to make a list of all the words and a dictionary which would contain the frequency of the given word."
   ]
  },
  {
   "cell_type": "markdown",
   "id": "72133b6e",
   "metadata": {},
   "source": [
    "To make our our job easier, we would remove all the special characters from data"
   ]
  },
  {
   "cell_type": "code",
   "execution_count": null,
   "id": "9a17ba5d",
   "metadata": {},
   "outputs": [],
   "source": [
    "data =data.replace(to_replace = \"[^a-zA-Z0-9]\",value= \" \" ,regex=True)\n",
    "shuffle_data =shuffle_data.replace(to_replace = \"[^a-zA-Z0-9]\",value= \" \" ,regex=True)\n",
    "train_data =train_data.replace(to_replace = \"[^a-zA-Z0-9]\",value= \" \" ,regex=True)\n",
    "dev_data =dev_data.replace(to_replace = \"[^a-zA-Z0-9]\",value= \" \" ,regex=True)\n",
    "test_data =test_data.replace(to_replace = \"[^a-zA-Z0-9]\",value= \" \" ,regex=True)"
   ]
  },
  {
   "cell_type": "markdown",
   "id": "8cad7050",
   "metadata": {},
   "source": [
    "Then we move on to making the list and the dictionary by splitting the string and counting the words"
   ]
  },
  {
   "cell_type": "code",
   "execution_count": null,
   "id": "53d2a1e7",
   "metadata": {},
   "outputs": [],
   "source": [
    "word_list=[]\n",
    "words_freq={}\n",
    "for sentence in shuffle_data['Reviews']:\n",
    "    for word in sentence.split(' '):\n",
    "        if word not in word_list:\n",
    "            word_list.append(word)\n",
    "            words_freq[word] = 1\n",
    "        else:\n",
    "            words_freq[word] = words_freq[word] + 1\n",
    "            \n",
    "print(word_list)\n",
    "print(words_freq)"
   ]
  }
 ],
 "metadata": {
  "kernelspec": {
   "display_name": "Python 3",
   "language": "python",
   "name": "python3"
  },
  "language_info": {
   "codemirror_mode": {
    "name": "ipython",
    "version": 3
   },
   "file_extension": ".py",
   "mimetype": "text/x-python",
   "name": "python",
   "nbconvert_exporter": "python",
   "pygments_lexer": "ipython3",
   "version": "3.8.8"
  }
 },
 "nbformat": 4,
 "nbformat_minor": 5
}
